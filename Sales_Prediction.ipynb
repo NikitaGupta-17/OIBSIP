{
  "nbformat": 4,
  "nbformat_minor": 0,
  "metadata": {
    "colab": {
      "provenance": []
    },
    "kernelspec": {
      "name": "python3",
      "display_name": "Python 3"
    },
    "language_info": {
      "name": "python"
    }
  },
  "cells": [
    {
      "cell_type": "markdown",
      "source": [
        "# ***Sales Prediction***"
      ],
      "metadata": {
        "id": "uT3evicPXxPw"
      }
    },
    {
      "cell_type": "code",
      "source": [
        "import pandas as pd\n",
        "from sklearn.model_selection import train_test_split\n",
        "from sklearn.tree import DecisionTreeRegressor,plot_tree"
      ],
      "metadata": {
        "id": "mXhszCvUX6Ij"
      },
      "execution_count": 2,
      "outputs": []
    },
    {
      "cell_type": "code",
      "source": [
        "pdy = pd.read_csv(\"/Advertising.csv\")\n",
        "print(\"Dataset : \\n\" ,pdy)\n",
        "x=pdy.iloc[:,1:4]\n",
        "y=pdy.iloc[:,-1]\n",
        "print(\"\\nIndependent : \\n\",x)"
      ],
      "metadata": {
        "colab": {
          "base_uri": "https://localhost:8080/"
        },
        "id": "nT4gr5nGYEBV",
        "outputId": "749db77c-c8ce-4d61-ebc1-f13bb351430a"
      },
      "execution_count": 5,
      "outputs": [
        {
          "output_type": "stream",
          "name": "stdout",
          "text": [
            "Dataset : \n",
            "      Unnamed: 0     TV  Radio  Newspaper  Sales\n",
            "0             1  230.1   37.8       69.2   22.1\n",
            "1             2   44.5   39.3       45.1   10.4\n",
            "2             3   17.2   45.9       69.3    9.3\n",
            "3             4  151.5   41.3       58.5   18.5\n",
            "4             5  180.8   10.8       58.4   12.9\n",
            "..          ...    ...    ...        ...    ...\n",
            "195         196   38.2    3.7       13.8    7.6\n",
            "196         197   94.2    4.9        8.1    9.7\n",
            "197         198  177.0    9.3        6.4   12.8\n",
            "198         199  283.6   42.0       66.2   25.5\n",
            "199         200  232.1    8.6        8.7   13.4\n",
            "\n",
            "[200 rows x 5 columns]\n",
            "\n",
            "Independent : \n",
            "         TV  Radio  Newspaper\n",
            "0    230.1   37.8       69.2\n",
            "1     44.5   39.3       45.1\n",
            "2     17.2   45.9       69.3\n",
            "3    151.5   41.3       58.5\n",
            "4    180.8   10.8       58.4\n",
            "..     ...    ...        ...\n",
            "195   38.2    3.7       13.8\n",
            "196   94.2    4.9        8.1\n",
            "197  177.0    9.3        6.4\n",
            "198  283.6   42.0       66.2\n",
            "199  232.1    8.6        8.7\n",
            "\n",
            "[200 rows x 3 columns]\n"
          ]
        }
      ]
    },
    {
      "cell_type": "code",
      "source": [
        "x_train,x_test,y_train,y_test=train_test_split(x,y,test_size=0.3,random_state=4)\n",
        "dt=DecisionTreeRegressor(random_state=4)\n",
        "model=dt.fit(x_train,y_train)\n",
        "y_pred=model.predict(x_test)"
      ],
      "metadata": {
        "id": "gJ2eEfMPYIhT"
      },
      "execution_count": 6,
      "outputs": []
    },
    {
      "cell_type": "code",
      "source": [
        "print(f\"\\nDependent test dataset : \\n {y_test}\\n\\n Dependent prediction values :\\n{y_pred}\")\n",
        "score = dt.score(x_test, y_test)\n",
        "print(score)"
      ],
      "metadata": {
        "colab": {
          "base_uri": "https://localhost:8080/"
        },
        "id": "bjiy0ZNgYj-h",
        "outputId": "92d71e12-e9b3-4ecb-9b16-731cc3b8c751"
      },
      "execution_count": 7,
      "outputs": [
        {
          "output_type": "stream",
          "name": "stdout",
          "text": [
            "\n",
            "Dependent test dataset : \n",
            " 11     17.4\n",
            "99     17.2\n",
            "128    24.7\n",
            "175    27.0\n",
            "1      10.4\n",
            "111    21.8\n",
            "90     11.2\n",
            "177    11.7\n",
            "88     12.9\n",
            "187    17.3\n",
            "61     24.2\n",
            "199    13.4\n",
            "191     9.9\n",
            "123    15.2\n",
            "184    17.6\n",
            "188    15.9\n",
            "33     17.4\n",
            "171    14.5\n",
            "138     9.6\n",
            "84     21.7\n",
            "81     12.3\n",
            "102    14.8\n",
            "147    25.4\n",
            "34      9.5\n",
            "47     23.2\n",
            "124    19.7\n",
            "112    14.1\n",
            "6      11.8\n",
            "14     19.0\n",
            "190    10.8\n",
            "80     11.8\n",
            "18     11.3\n",
            "167    12.2\n",
            "45     14.9\n",
            "153    19.0\n",
            "119     6.6\n",
            "100    11.7\n",
            "83     13.6\n",
            "181    12.2\n",
            "71     12.4\n",
            "26     15.0\n",
            "134    10.8\n",
            "180    10.5\n",
            "158     7.3\n",
            "189     6.7\n",
            "89     16.7\n",
            "48     14.8\n",
            "116    12.2\n",
            "12      9.2\n",
            "69     22.3\n",
            "110    13.4\n",
            "154    15.6\n",
            "16     12.5\n",
            "19     14.6\n",
            "2       9.3\n",
            "143    10.4\n",
            "185    22.6\n",
            "29     10.5\n",
            "155     3.2\n",
            "24      9.7\n",
            "Name: Sales, dtype: float64\n",
            "\n",
            " Dependent prediction values :\n",
            "[17.1 19.6 23.8 25.4 12.6 21.5 11.  11.7 11.3 18.4 22.4 12.8  9.7 14.2\n",
            " 15.9 15.  15.  12.9 10.1 21.5 12.5 12.9 23.8  9.7 21.5 20.1 14.4 12.6\n",
            " 18.3 10.9 10.6 10.9 12.5 14.4 18.5  6.9 12.5 12.6 12.5 11.5 17.3 12.6\n",
            " 10.3  6.6  6.9 16.  15.7 13.4  8.5 21.5 12.9 15.5 12.6 15.5  8.7 11.\n",
            " 21.5 11.4  5.7  9.7]\n",
            "0.9520524557907943\n"
          ]
        }
      ]
    }
  ]
}