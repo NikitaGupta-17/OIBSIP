{
  "nbformat": 4,
  "nbformat_minor": 0,
  "metadata": {
    "colab": {
      "provenance": []
    },
    "kernelspec": {
      "name": "python3",
      "display_name": "Python 3"
    },
    "language_info": {
      "name": "python"
    }
  },
  "cells": [
    {
      "cell_type": "markdown",
      "source": [
        "# ***Iris Flower Classification***"
      ],
      "metadata": {
        "id": "vabvn_45bY4O"
      }
    },
    {
      "cell_type": "code",
      "source": [
        "import numpy as np\n",
        "import pandas as pd\n",
        "import matplotlib.pyplot as plt\n",
        "from sklearn.linear_model import LinearRegression\n",
        "from sklearn.model_selection import train_test_split\n",
        "from sklearn.metrics import mean_squared_error,r2_score\n",
        "from sklearn.datasets import load_iris\n",
        "from sklearn.preprocessing import LabelEncoder"
      ],
      "metadata": {
        "id": "f1bIIzZabeHv"
      },
      "execution_count": 1,
      "outputs": []
    },
    {
      "cell_type": "code",
      "source": [
        "iris=pd.read_csv(\"Iris (1).csv\")\n",
        "print(\"Dataset : \\n\",iris)"
      ],
      "metadata": {
        "colab": {
          "base_uri": "https://localhost:8080/"
        },
        "id": "tLmCec2QbhBw",
        "outputId": "1b7090f6-a183-49c8-a979-a439dbaeb9b9"
      },
      "execution_count": 3,
      "outputs": [
        {
          "output_type": "stream",
          "name": "stdout",
          "text": [
            "Dataset : \n",
            "       Id  SepalLengthCm  SepalWidthCm  PetalLengthCm  PetalWidthCm  \\\n",
            "0      1            5.1           3.5            1.4           0.2   \n",
            "1      2            4.9           3.0            1.4           0.2   \n",
            "2      3            4.7           3.2            1.3           0.2   \n",
            "3      4            4.6           3.1            1.5           0.2   \n",
            "4      5            5.0           3.6            1.4           0.2   \n",
            "..   ...            ...           ...            ...           ...   \n",
            "145  146            6.7           3.0            5.2           2.3   \n",
            "146  147            6.3           2.5            5.0           1.9   \n",
            "147  148            6.5           3.0            5.2           2.0   \n",
            "148  149            6.2           3.4            5.4           2.3   \n",
            "149  150            5.9           3.0            5.1           1.8   \n",
            "\n",
            "            Species  \n",
            "0       Iris-setosa  \n",
            "1       Iris-setosa  \n",
            "2       Iris-setosa  \n",
            "3       Iris-setosa  \n",
            "4       Iris-setosa  \n",
            "..              ...  \n",
            "145  Iris-virginica  \n",
            "146  Iris-virginica  \n",
            "147  Iris-virginica  \n",
            "148  Iris-virginica  \n",
            "149  Iris-virginica  \n",
            "\n",
            "[150 rows x 6 columns]\n"
          ]
        }
      ]
    },
    {
      "cell_type": "code",
      "source": [
        "label_encoder =LabelEncoder()\n",
        "iris['Species']= label_encoder.fit_transform(iris['Species'])"
      ],
      "metadata": {
        "id": "x3aOkZWwbqK8"
      },
      "execution_count": 5,
      "outputs": []
    },
    {
      "cell_type": "code",
      "source": [
        "x=iris.iloc[:,:3]\n",
        "y=iris.iloc[:,-1]\n",
        "\n",
        "print(\"Independent variables are : \\n\",x)\n",
        "print(\"Dependent variables are : \\n\",y)"
      ],
      "metadata": {
        "colab": {
          "base_uri": "https://localhost:8080/"
        },
        "id": "hDs2pbuFbzNC",
        "outputId": "8a0d2f9e-45a7-4ff5-9545-57a6d54cb098"
      },
      "execution_count": 7,
      "outputs": [
        {
          "output_type": "stream",
          "name": "stdout",
          "text": [
            "Independent variables are : \n",
            "       Id  SepalLengthCm  SepalWidthCm\n",
            "0      1            5.1           3.5\n",
            "1      2            4.9           3.0\n",
            "2      3            4.7           3.2\n",
            "3      4            4.6           3.1\n",
            "4      5            5.0           3.6\n",
            "..   ...            ...           ...\n",
            "145  146            6.7           3.0\n",
            "146  147            6.3           2.5\n",
            "147  148            6.5           3.0\n",
            "148  149            6.2           3.4\n",
            "149  150            5.9           3.0\n",
            "\n",
            "[150 rows x 3 columns]\n",
            "Dependent variables are : \n",
            " 0      0\n",
            "1      0\n",
            "2      0\n",
            "3      0\n",
            "4      0\n",
            "      ..\n",
            "145    2\n",
            "146    2\n",
            "147    2\n",
            "148    2\n",
            "149    2\n",
            "Name: Species, Length: 150, dtype: int64\n"
          ]
        }
      ]
    },
    {
      "cell_type": "code",
      "source": [
        "x_train,x_test,y_train,y_test=train_test_split(x,y,test_size=0.4,random_state=4)\n",
        "\n",
        "# fit the model\n",
        "lm=LinearRegression()\n",
        "model=lm.fit(x_train,y_train)\n",
        "print(\"\\nModel : \",model)"
      ],
      "metadata": {
        "colab": {
          "base_uri": "https://localhost:8080/"
        },
        "id": "qe_GwKJnb6s4",
        "outputId": "2c1475ca-bf66-4314-97b5-b60022ba402a"
      },
      "execution_count": 8,
      "outputs": [
        {
          "output_type": "stream",
          "name": "stdout",
          "text": [
            "\n",
            "Model :  LinearRegression()\n"
          ]
        }
      ]
    },
    {
      "cell_type": "code",
      "source": [
        "y_pred=model.predict(x_test)\n",
        "print(f'\\ny_test : \\n{y_test} \\n\\ny_pred : \\n{y_pred}')"
      ],
      "metadata": {
        "colab": {
          "base_uri": "https://localhost:8080/"
        },
        "id": "hq7TW_ffcD6P",
        "outputId": "d4483f42-cfc1-4f63-90f9-ec693a0748cc"
      },
      "execution_count": 9,
      "outputs": [
        {
          "output_type": "stream",
          "name": "stdout",
          "text": [
            "\n",
            "y_test : \n",
            "128    2\n",
            "18     0\n",
            "130    2\n",
            "105    2\n",
            "107    2\n",
            "78     1\n",
            "83     1\n",
            "14     0\n",
            "5      0\n",
            "133    2\n",
            "25     0\n",
            "11     0\n",
            "12     0\n",
            "63     1\n",
            "113    2\n",
            "34     0\n",
            "60     1\n",
            "2      0\n",
            "24     0\n",
            "123    2\n",
            "35     0\n",
            "124    2\n",
            "68     1\n",
            "26     0\n",
            "29     0\n",
            "19     0\n",
            "41     0\n",
            "16     0\n",
            "20     0\n",
            "101    2\n",
            "84     1\n",
            "47     0\n",
            "108    2\n",
            "1      0\n",
            "93     1\n",
            "144    2\n",
            "125    2\n",
            "92     1\n",
            "86     1\n",
            "46     0\n",
            "135    2\n",
            "7      0\n",
            "65     1\n",
            "10     0\n",
            "132    2\n",
            "13     0\n",
            "15     0\n",
            "61     1\n",
            "91     1\n",
            "116    2\n",
            "27     0\n",
            "69     1\n",
            "118    2\n",
            "136    2\n",
            "97     1\n",
            "96     1\n",
            "43     0\n",
            "64     1\n",
            "119    2\n",
            "90     1\n",
            "Name: Species, dtype: int64 \n",
            "\n",
            "y_pred : \n",
            "[ 1.93263511  0.03792387  2.21519371  1.88202392  1.85405244  1.12589666\n",
            "  1.23675529 -0.03374467 -0.23758412  1.97545175  0.12502104 -0.20241198\n",
            " -0.10370481  0.94640214  1.61274171  0.20124898  0.81599206 -0.30842468\n",
            " -0.02473074  1.86003371  0.21917923  1.84823164  1.1890823   0.05364944\n",
            "  0.06060559 -0.10154215  0.36491305 -0.08723845  0.07373192  1.43173087\n",
            "  1.03350973  0.28110347  1.79962579 -0.22852818  1.20324953  2.1215874\n",
            "  2.01077078  1.32998062  1.37137539  0.26748813  2.31757986 -0.20603853\n",
            "  1.08435184 -0.12672549  1.98730626 -0.21764853 -0.13063856  0.84676212\n",
            "  1.30784036  1.75162427  0.09710199  0.98583674  2.17026684  1.88889604\n",
            "  1.43662924  1.29534994  0.26474199  0.83245842  1.83509488  1.22607814]\n"
          ]
        }
      ]
    },
    {
      "cell_type": "code",
      "source": [
        "print(\"\\nCoefficient of determination : \\n\",model.coef_)\n",
        "print(\"\\nMean squared error : \\n\",mean_squared_error(y_test,y_pred))\n",
        "print(\"\\nR squared error : \\n\",r2_score(y_test,y_pred))"
      ],
      "metadata": {
        "colab": {
          "base_uri": "https://localhost:8080/"
        },
        "id": "R2GFppDScIaZ",
        "outputId": "583b997f-1fc0-487a-af50-27d4962ee4dd"
      },
      "execution_count": 10,
      "outputs": [
        {
          "output_type": "stream",
          "name": "stdout",
          "text": [
            "\n",
            "Coefficient of determination : \n",
            " [ 0.01366779  0.25522302 -0.21259845]\n",
            "\n",
            "Mean squared error : \n",
            " 0.0447285541413793\n",
            "\n",
            "R squared error : \n",
            " 0.9363797728530362\n"
          ]
        }
      ]
    }
  ]
}